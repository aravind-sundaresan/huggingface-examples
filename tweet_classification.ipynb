{
  "nbformat": 4,
  "nbformat_minor": 0,
  "metadata": {
    "colab": {
      "name": "tweet-classification.ipynb",
      "provenance": [],
      "collapsed_sections": [],
      "authorship_tag": "ABX9TyNrl8U8Vq/NovHCW6Qd1olw",
      "include_colab_link": true
    },
    "kernelspec": {
      "name": "python3",
      "display_name": "Python 3"
    }
  },
  "cells": [
    {
      "cell_type": "markdown",
      "metadata": {
        "id": "view-in-github",
        "colab_type": "text"
      },
      "source": [
        "<a href=\"https://colab.research.google.com/github/aravind-sundaresan/huggingface-examples/blob/master/tweet_classification.ipynb\" target=\"_parent\"><img src=\"https://colab.research.google.com/assets/colab-badge.svg\" alt=\"Open In Colab\"/></a>"
      ]
    },
    {
      "cell_type": "code",
      "metadata": {
        "id": "VxHgAG04LQVT"
      },
      "source": [
        "! pip install transformers"
      ],
      "execution_count": null,
      "outputs": []
    },
    {
      "cell_type": "code",
      "metadata": {
        "colab": {
          "base_uri": "https://localhost:8080/"
        },
        "id": "2G1js5eLMrdM",
        "outputId": "d733c55f-bcd1-4d35-8644-60db3641c3dc"
      },
      "source": [
        "from google.colab import drive\n",
        "drive.mount(\"/drive\")\n",
        "\n",
        "import pandas as pd\n",
        "from sklearn.model_selection import train_test_split\n",
        "import tensorflow as tf\n",
        "from transformers import DistilBertTokenizerFast\n",
        "from transformers import TFDistilBertForSequenceClassification"
      ],
      "execution_count": 9,
      "outputs": [
        {
          "output_type": "stream",
          "text": [
            "Drive already mounted at /drive; to attempt to forcibly remount, call drive.mount(\"/drive\", force_remount=True).\n"
          ],
          "name": "stdout"
        }
      ]
    },
    {
      "cell_type": "markdown",
      "metadata": {
        "id": "TLEDKXPsTlEA"
      },
      "source": [
        "## Loading the input data\n",
        "The input dataset consists of tweets pertaining to disasters."
      ]
    },
    {
      "cell_type": "code",
      "metadata": {
        "colab": {
          "base_uri": "https://localhost:8080/",
          "height": 204
        },
        "id": "dH-GPYjNNUMQ",
        "outputId": "f38ec186-fc46-47b1-ebd9-739eb2ae9426"
      },
      "source": [
        "tweet_df = pd.read_csv(\"data/tweets.csv\")\n",
        "\n",
        "tweet_df.head()"
      ],
      "execution_count": 3,
      "outputs": [
        {
          "output_type": "execute_result",
          "data": {
            "text/html": [
              "<div>\n",
              "<style scoped>\n",
              "    .dataframe tbody tr th:only-of-type {\n",
              "        vertical-align: middle;\n",
              "    }\n",
              "\n",
              "    .dataframe tbody tr th {\n",
              "        vertical-align: top;\n",
              "    }\n",
              "\n",
              "    .dataframe thead th {\n",
              "        text-align: right;\n",
              "    }\n",
              "</style>\n",
              "<table border=\"1\" class=\"dataframe\">\n",
              "  <thead>\n",
              "    <tr style=\"text-align: right;\">\n",
              "      <th></th>\n",
              "      <th>id</th>\n",
              "      <th>keyword</th>\n",
              "      <th>location</th>\n",
              "      <th>text</th>\n",
              "      <th>target</th>\n",
              "    </tr>\n",
              "  </thead>\n",
              "  <tbody>\n",
              "    <tr>\n",
              "      <th>0</th>\n",
              "      <td>0</td>\n",
              "      <td>ablaze</td>\n",
              "      <td>NaN</td>\n",
              "      <td>Communal violence in Bhainsa, Telangana. \"Ston...</td>\n",
              "      <td>1</td>\n",
              "    </tr>\n",
              "    <tr>\n",
              "      <th>1</th>\n",
              "      <td>1</td>\n",
              "      <td>ablaze</td>\n",
              "      <td>NaN</td>\n",
              "      <td>Telangana: Section 144 has been imposed in Bha...</td>\n",
              "      <td>1</td>\n",
              "    </tr>\n",
              "    <tr>\n",
              "      <th>2</th>\n",
              "      <td>2</td>\n",
              "      <td>ablaze</td>\n",
              "      <td>New York City</td>\n",
              "      <td>Arsonist sets cars ablaze at dealership https:...</td>\n",
              "      <td>1</td>\n",
              "    </tr>\n",
              "    <tr>\n",
              "      <th>3</th>\n",
              "      <td>3</td>\n",
              "      <td>ablaze</td>\n",
              "      <td>Morgantown, WV</td>\n",
              "      <td>Arsonist sets cars ablaze at dealership https:...</td>\n",
              "      <td>1</td>\n",
              "    </tr>\n",
              "    <tr>\n",
              "      <th>4</th>\n",
              "      <td>4</td>\n",
              "      <td>ablaze</td>\n",
              "      <td>NaN</td>\n",
              "      <td>\"Lord Jesus, your love brings freedom and pard...</td>\n",
              "      <td>0</td>\n",
              "    </tr>\n",
              "  </tbody>\n",
              "</table>\n",
              "</div>"
            ],
            "text/plain": [
              "   id keyword  ...                                               text target\n",
              "0   0  ablaze  ...  Communal violence in Bhainsa, Telangana. \"Ston...      1\n",
              "1   1  ablaze  ...  Telangana: Section 144 has been imposed in Bha...      1\n",
              "2   2  ablaze  ...  Arsonist sets cars ablaze at dealership https:...      1\n",
              "3   3  ablaze  ...  Arsonist sets cars ablaze at dealership https:...      1\n",
              "4   4  ablaze  ...  \"Lord Jesus, your love brings freedom and pard...      0\n",
              "\n",
              "[5 rows x 5 columns]"
            ]
          },
          "metadata": {
            "tags": []
          },
          "execution_count": 3
        }
      ]
    },
    {
      "cell_type": "markdown",
      "metadata": {
        "id": "dDVtjlwqViyl"
      },
      "source": [
        "Distribution of labels"
      ]
    },
    {
      "cell_type": "code",
      "metadata": {
        "colab": {
          "base_uri": "https://localhost:8080/"
        },
        "id": "7-2dz432VBwr",
        "outputId": "058eccab-e7a1-4561-9840-d1d7a4d91b39"
      },
      "source": [
        "tweet_df[\"target\"].value_counts()"
      ],
      "execution_count": 4,
      "outputs": [
        {
          "output_type": "execute_result",
          "data": {
            "text/plain": [
              "0    9256\n",
              "1    2114\n",
              "Name: target, dtype: int64"
            ]
          },
          "metadata": {
            "tags": []
          },
          "execution_count": 4
        }
      ]
    },
    {
      "cell_type": "markdown",
      "metadata": {
        "id": "N9VqzX_XWW1u"
      },
      "source": [
        "## Generating Train and Validation sets"
      ]
    },
    {
      "cell_type": "code",
      "metadata": {
        "id": "l6kryTI3VGiE"
      },
      "source": [
        "x_train, x_val, y_train, y_val = train_test_split(tweet_df[\"text\"].values, tweet_df[\"target\"].values, test_size=0.2)"
      ],
      "execution_count": 5,
      "outputs": []
    },
    {
      "cell_type": "markdown",
      "metadata": {
        "id": "wkaVY-oQe4uE"
      },
      "source": [
        "## Tokenizing the tweets"
      ]
    },
    {
      "cell_type": "code",
      "metadata": {
        "id": "W559se-iWzh-"
      },
      "source": [
        "tokenizer = DistilBertTokenizerFast.from_pretrained('distilbert-base-uncased')"
      ],
      "execution_count": null,
      "outputs": []
    },
    {
      "cell_type": "code",
      "metadata": {
        "id": "e7opHbmzfDE7"
      },
      "source": [
        "''' truncation=True and padding=True will ensure that all sequences are padded to the same length and \n",
        " are truncated to be no longer than the model’s maximum input length '''\n",
        "\n",
        "train_encodings = tokenizer(list(x_train), truncation=True, padding=True)\n",
        "val_encodings = tokenizer(list(x_val), truncation=True, padding=True)"
      ],
      "execution_count": 7,
      "outputs": []
    },
    {
      "cell_type": "markdown",
      "metadata": {
        "id": "MuKIx0b6hFB1"
      },
      "source": [
        "## Creating a Dataset object using the encodings and labels"
      ]
    },
    {
      "cell_type": "code",
      "metadata": {
        "id": "YMUkvofkgCxV"
      },
      "source": [
        "train_dataset = tf.data.Dataset.from_tensor_slices((\n",
        "    dict(train_encodings),\n",
        "    y_train\n",
        "))\n",
        "\n",
        "val_dataset = tf.data.Dataset.from_tensor_slices((\n",
        "    dict(val_encodings),\n",
        "    y_val\n",
        "))"
      ],
      "execution_count": 8,
      "outputs": []
    },
    {
      "cell_type": "markdown",
      "metadata": {
        "id": "NW21wTlMnRUG"
      },
      "source": [
        "# Fine-tuning the pretrained model using native TensorFlow\n",
        "The classifier is built by fine-tuning a pre-trained DistilBert model."
      ]
    },
    {
      "cell_type": "code",
      "metadata": {
        "id": "e2j7TNkahUkM"
      },
      "source": [
        "model = TFDistilBertForSequenceClassification.from_pretrained('distilbert-base-uncased', num_labels=2)\n",
        "optimizer = tf.keras.optimizers.Adam(learning_rate=5e-5)\n",
        "\n",
        "model.compile(optimizer=optimizer, loss=model.compute_loss, metrics=[\"accuracy\"])"
      ],
      "execution_count": null,
      "outputs": []
    },
    {
      "cell_type": "code",
      "metadata": {
        "colab": {
          "base_uri": "https://localhost:8080/"
        },
        "id": "0kq526UFouVa",
        "outputId": "13bb5aee-29e1-4809-ba45-c0620c71603a"
      },
      "source": [
        "model.fit(train_dataset.shuffle(1000).batch(16), epochs=5, validation_data=val_dataset.shuffle(1000).batch(16))"
      ],
      "execution_count": 16,
      "outputs": [
        {
          "output_type": "stream",
          "text": [
            "The parameters `output_attentions`, `output_hidden_states` and `use_cache` cannot be updated when calling a model.They have to be set to True/False in the config object (i.e.: `config=XConfig.from_pretrained('name', output_attentions=True)`).\n",
            "The parameter `return_dict` cannot be set in graph mode and will always be set to `True`.\n"
          ],
          "name": "stderr"
        },
        {
          "output_type": "stream",
          "text": [
            "Epoch 1/5\n"
          ],
          "name": "stdout"
        },
        {
          "output_type": "stream",
          "text": [
            "The parameters `output_attentions`, `output_hidden_states` and `use_cache` cannot be updated when calling a model.They have to be set to True/False in the config object (i.e.: `config=XConfig.from_pretrained('name', output_attentions=True)`).\n",
            "The parameter `return_dict` cannot be set in graph mode and will always be set to `True`.\n"
          ],
          "name": "stderr"
        },
        {
          "output_type": "stream",
          "text": [
            "569/569 [==============================] - ETA: 0s - loss: 0.3272 - accuracy: 0.8611"
          ],
          "name": "stdout"
        },
        {
          "output_type": "stream",
          "text": [
            "The parameters `output_attentions`, `output_hidden_states` and `use_cache` cannot be updated when calling a model.They have to be set to True/False in the config object (i.e.: `config=XConfig.from_pretrained('name', output_attentions=True)`).\n",
            "The parameter `return_dict` cannot be set in graph mode and will always be set to `True`.\n"
          ],
          "name": "stderr"
        },
        {
          "output_type": "stream",
          "text": [
            "569/569 [==============================] - 92s 149ms/step - loss: 0.3271 - accuracy: 0.8612 - val_loss: 0.2035 - val_accuracy: 0.9160\n",
            "Epoch 2/5\n",
            "569/569 [==============================] - 85s 150ms/step - loss: 0.1588 - accuracy: 0.9371 - val_loss: 0.2246 - val_accuracy: 0.9204\n",
            "Epoch 3/5\n",
            "569/569 [==============================] - 86s 152ms/step - loss: 0.0768 - accuracy: 0.9736 - val_loss: 0.2381 - val_accuracy: 0.9085\n",
            "Epoch 4/5\n",
            "569/569 [==============================] - 87s 153ms/step - loss: 0.0411 - accuracy: 0.9873 - val_loss: 0.2800 - val_accuracy: 0.9200\n",
            "Epoch 5/5\n",
            "569/569 [==============================] - 87s 153ms/step - loss: 0.0240 - accuracy: 0.9928 - val_loss: 0.2981 - val_accuracy: 0.9156\n"
          ],
          "name": "stdout"
        },
        {
          "output_type": "execute_result",
          "data": {
            "text/plain": [
              "<tensorflow.python.keras.callbacks.History at 0x7f69ef9e6ba8>"
            ]
          },
          "metadata": {
            "tags": []
          },
          "execution_count": 16
        }
      ]
    }
  ]
}